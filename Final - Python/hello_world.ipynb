{
 "cells": [
  {
   "cell_type": "code",
   "execution_count": 5,
   "metadata": {},
   "outputs": [
    {
     "name": "stdout",
     "output_type": "stream",
     "text": [
      "Numpy v1.22.3\n",
      "Scipy v1.10.1\n",
      "Sympy v1.7.3\n",
      "Matplotlib v3.5.1\n"
     ]
    }
   ],
   "source": [
    "import numpy\n",
    "import scipy\n",
    "import sympy\n",
    "import matplotlib\n",
    "\n",
    "print(f'Numpy v{numpy.__version__}')\n",
    "print(f'Scipy v{sympy.__version__}')\n",
    "print(f'Sympy v{scipy.__version__}')\n",
    "print(f'Matplotlib v{matplotlib.__version__}')"
   ]
  },
  {
   "cell_type": "code",
   "execution_count": 1,
   "metadata": {},
   "outputs": [],
   "source": [
    "import datetime\n",
    "\n",
    "def calculate_days_between_dates(year1, month1, day1, year2, month2, day2) -> int:\n",
    "    # Use the two date to calculate the number of days between them\n",
    "    # The return value should be an integer \n",
    "    date_begin = datetime.date(year1, month1, day1)\n",
    "    date_end = datetime.date(year2, month2, day2)\n",
    "    return (date_end - date_begin).days"
   ]
  },
  {
   "cell_type": "code",
   "execution_count": 4,
   "metadata": {},
   "outputs": [
    {
     "name": "stdout",
     "output_type": "stream",
     "text": [
      "<class 'int'>\n"
     ]
    }
   ],
   "source": [
    "print(type(calculate_days_between_dates(2017, 12, 30, 2018, 1, 14)))"
   ]
  }
 ],
 "metadata": {
  "kernelspec": {
   "display_name": "Python 3.9.12 ('engineering_optimization')",
   "language": "python",
   "name": "python3"
  },
  "language_info": {
   "codemirror_mode": {
    "name": "ipython",
    "version": 3
   },
   "file_extension": ".py",
   "mimetype": "text/x-python",
   "name": "python",
   "nbconvert_exporter": "python",
   "pygments_lexer": "ipython3",
   "version": "3.9.12"
  },
  "orig_nbformat": 4,
  "vscode": {
   "interpreter": {
    "hash": "a2f828b6b8c3a80642846a1683196e611a19f96e87bf6e9047e3ef43d9a50772"
   }
  }
 },
 "nbformat": 4,
 "nbformat_minor": 2
}
